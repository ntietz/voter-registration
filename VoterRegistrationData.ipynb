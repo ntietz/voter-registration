{
 "cells": [
  {
   "cell_type": "code",
   "execution_count": 1,
   "metadata": {
    "collapsed": false
   },
   "outputs": [
    {
     "name": "stdout",
     "output_type": "stream",
     "text": [
      "Loaded in 7535870 records.\n"
     ]
    }
   ],
   "source": [
    "# Read in the voter records.\n",
    "import csv\n",
    "header = None\n",
    "content = []\n",
    "with open('data/voter_records.csv', 'rb') as voter_file:\n",
    "    reader = csv.reader(voter_file, delimiter=',')\n",
    "    header = reader.next()\n",
    "    for row in reader:\n",
    "        content.append(row)\n",
    "\n",
    "print \"Loaded in %s records.\" % len(content)"
   ]
  },
  {
   "cell_type": "code",
   "execution_count": null,
   "metadata": {
    "collapsed": false,
    "slideshow": {
     "slide_type": "-"
    }
   },
   "outputs": [],
   "source": [
    "# Read in the county numbers file.\n",
    "import json, ast\n",
    "with open('data/counties.json', 'rb') as counties_file:\n",
    "    number_to_county = ast.literal_eval(counties_file.read())\n",
    "county_to_number = {v:k for k,v in number_to_county.iteritems()}"
   ]
  },
  {
   "cell_type": "code",
   "execution_count": null,
   "metadata": {
    "collapsed": true
   },
   "outputs": [],
   "source": [
    "# Push the data into a sqlite database\n",
    "import pandas, sqlite3\n",
    "db_conn = sqlite3.connect('data/voter_records.sl3')\n",
    "dataframe = pandas.DataFrame(data=content, columns=header)\n",
    "dataframe.to_sql('voter_records', db_conn)"
   ]
  },
  {
   "cell_type": "code",
   "execution_count": null,
   "metadata": {
    "collapsed": true
   },
   "outputs": [],
   "source": []
  }
 ],
 "metadata": {
  "kernelspec": {
   "display_name": "Python 2",
   "language": "python",
   "name": "python2"
  },
  "language_info": {
   "codemirror_mode": {
    "name": "ipython",
    "version": 2
   },
   "file_extension": ".py",
   "mimetype": "text/x-python",
   "name": "python",
   "nbconvert_exporter": "python",
   "pygments_lexer": "ipython2",
   "version": "2.7.6"
  }
 },
 "nbformat": 4,
 "nbformat_minor": 0
}
